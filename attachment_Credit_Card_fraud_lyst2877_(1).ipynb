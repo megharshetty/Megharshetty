{
  "nbformat": 4,
  "nbformat_minor": 0,
  "metadata": {
    "colab": {
      "name": "attachment_Credit_Card_fraud_lyst2877 (1).ipynb",
      "version": "0.3.2",
      "provenance": [],
      "collapsed_sections": [],
      "include_colab_link": true
    },
    "kernelspec": {
      "display_name": "Python 3",
      "language": "python",
      "name": "python3"
    },
    "language_info": {
      "codemirror_mode": {
        "name": "ipython",
        "version": 3
      },
      "file_extension": ".py",
      "mimetype": "text/x-python",
      "name": "python",
      "nbconvert_exporter": "python",
      "pygments_lexer": "ipython3",
      "version": "3.6.3"
    }
  },
  "cells": [
    {
      "cell_type": "markdown",
      "metadata": {
        "id": "view-in-github",
        "colab_type": "text"
      },
      "source": [
        "<a href=\"https://colab.research.google.com/github/megharshetty/Megharshetty/blob/master/attachment_Credit_Card_fraud_lyst2877_(1).ipynb\" target=\"_parent\"><img src=\"https://colab.research.google.com/assets/colab-badge.svg\" alt=\"Open In Colab\"/></a>"
      ]
    },
    {
      "cell_type": "markdown",
      "metadata": {
        "colab_type": "text",
        "id": "e7zTc0tmTorW"
      },
      "source": [
        "<img src=\"https://shwetkm.github.io/upxlogo.png\"></img>\n",
        "\n",
        "# Predict Credit Card Fraud\n",
        "\n",
        "\n"
      ]
    },
    {
      "cell_type": "markdown",
      "metadata": {
        "colab_type": "text",
        "id": "jFNZB2YmTorg"
      },
      "source": [
        "## Table of Contents\n",
        "* [1. Problem Statement](#1.-Problem-Statement)  \n",
        "* [2. Objective](#2.-Objective) \n",
        "* [3. Import all scientific and visualization packages](#3.-Import-all-scientific-and-visualization-packages)\n",
        "* [4. Loading the datasets](#4.-Loading-the-datasets)\n",
        "    * [4.1 Understand datatypes present in dataframe](#4.1-Understand-datatypes-present-in-dataframe)\n",
        "* [5. Data Visualization](#5.-Data-Visualization)\n",
        "    * [5.1 Distribution of amount in credit card transactions](#5.1-Distribution-of-amount-in-credit-card-transactions)\n",
        "    * [5.2 Distribution of time that transactions were conducted for both fraudulent as well as non fraudulent.](#5.2-Distribution-of-time-that-transactions-were conducted-for-both-fraudulent-as-well-as-non-fraudulent)\n",
        "    * [5.3 Distribution of attribute V4 for fraudulent and non fraudulent transactions](#5.3-Distribution-of-V4-for-fraudulent- and-non-fraudulent-transactions)\n",
        "    * [5.4 Scatter plot between time of transaction and amount of transaction](#5.4-Scatter-plot-between-time-of transaction and amount of transaction)\n",
        "    * [ 5.5 Correlation Heatmap](#5.5-Correlation-Heatmap)\n",
        "* [6. Handle imbalanced data using SMOTE](#6.-Handle imbalanced data using SMOTE)\n",
        "    * [6.1 Prepare the data](#6.1-Prepare-the-data)\n",
        "    * [6.2 Train a logistic regression model](#6.2-Train-a-logistic-regression-model)\n",
        "    * [6.3 Train a decision tree model](#6.3-Train-a-decision-tree-model)\n",
        "    * [6.4 Train a random forest classifier model](#6.4-Train-a-random-forest-classifier-model)\n",
        "    "
      ]
    },
    {
      "cell_type": "markdown",
      "metadata": {
        "colab_type": "text",
        "id": "ghnP1PLyTorh"
      },
      "source": [
        "### 1. Problem Statement"
      ]
    },
    {
      "cell_type": "markdown",
      "metadata": {
        "colab_type": "text",
        "id": "Db6RRsfGTori"
      },
      "source": [
        "Due to prevalent fraud in finance domain, it is imperative for credit card companies to be able to recognize fraudulent credit card transactions so that customers are not charged for items that they did not purchase.\n",
        "The datasets contains transactions made by credit cards in September 2013 by European cardholders. This dataset presents transactions that occurred in two days, where we have 492 frauds out of 284,807 transactions."
      ]
    },
    {
      "cell_type": "markdown",
      "metadata": {
        "colab_type": "text",
        "id": "JdklRdxITorj"
      },
      "source": [
        "### 2. Objective"
      ]
    },
    {
      "cell_type": "markdown",
      "metadata": {
        "colab_type": "text",
        "id": "hPjwjgeCTork"
      },
      "source": [
        "Classify fraudulent transaction from non fraudulent transactions using machine learning algorithms."
      ]
    },
    {
      "cell_type": "markdown",
      "metadata": {
        "colab_type": "text",
        "id": "nMnILzIBTorl"
      },
      "source": [
        "### 3. Import all scientific and visualization packages"
      ]
    },
    {
      "cell_type": "code",
      "metadata": {
        "colab_type": "code",
        "id": "vjEN-UW7Torn",
        "colab": {}
      },
      "source": [
        "import pandas as pd                                            # package to manipulate dataframe\n",
        "import numpy as np                                             # scientific computing package\n",
        "from sklearn.model_selection import train_test_split           # splitting the data into train and test\n",
        "from sklearn.linear_model import LogisticRegression            # Building the Logistic Regression model\n",
        "from sklearn import metrics                                    # Metrics to evalaute the model\n",
        "from sklearn.metrics import roc_curve, auc                     # Metrics to evalaute the model\n",
        "\n",
        "\n",
        "## visualization packages\n",
        "\n",
        "from matplotlib import pyplot as plt\n",
        "import seaborn as sns\n",
        "%matplotlib inline\n"
      ],
      "execution_count": 0,
      "outputs": []
    },
    {
      "cell_type": "markdown",
      "metadata": {
        "colab_type": "text",
        "id": "fg4CxWUQTorq"
      },
      "source": [
        "### 4. Loading the datasets"
      ]
    },
    {
      "cell_type": "code",
      "metadata": {
        "id": "4_FRdtDe8fN3",
        "colab_type": "code",
        "outputId": "08399f75-76dd-4cd2-e55b-813093dfd3b9",
        "colab": {
          "base_uri": "https://localhost:8080/",
          "height": 377
        }
      },
      "source": [
        "!wget https://www.dropbox.com/s/4ep00wfljkogrmo/creditcard.csv   # Loading the credit card.csv dataset from dropbox"
      ],
      "execution_count": 2,
      "outputs": [
        {
          "output_type": "stream",
          "text": [
            "--2019-08-30 06:41:22--  https://www.dropbox.com/s/4ep00wfljkogrmo/creditcard.csv\n",
            "Resolving www.dropbox.com (www.dropbox.com)... 162.125.9.1, 2620:100:601f:1::a27d:901\n",
            "Connecting to www.dropbox.com (www.dropbox.com)|162.125.9.1|:443... connected.\n",
            "HTTP request sent, awaiting response... 301 Moved Permanently\n",
            "Location: /s/raw/4ep00wfljkogrmo/creditcard.csv [following]\n",
            "--2019-08-30 06:41:22--  https://www.dropbox.com/s/raw/4ep00wfljkogrmo/creditcard.csv\n",
            "Reusing existing connection to www.dropbox.com:443.\n",
            "HTTP request sent, awaiting response... 302 Found\n",
            "Location: https://ucab6b7ae449b63ddf135f37cd4e.dl.dropboxusercontent.com/cd/0/inline/AnlZCUp0zztnidtTjNMeulUNpq3Kxib6AurYkcA-EFVh1-AzbOYoJAfcEeZeT9wJ4YxR4EBhuP5x3HsTDm1j7KZF9pR9b-S4sHSta2Qfe7LAV37rpHyvU1CU6BlPAmXYHsk/file# [following]\n",
            "--2019-08-30 06:41:22--  https://ucab6b7ae449b63ddf135f37cd4e.dl.dropboxusercontent.com/cd/0/inline/AnlZCUp0zztnidtTjNMeulUNpq3Kxib6AurYkcA-EFVh1-AzbOYoJAfcEeZeT9wJ4YxR4EBhuP5x3HsTDm1j7KZF9pR9b-S4sHSta2Qfe7LAV37rpHyvU1CU6BlPAmXYHsk/file\n",
            "Resolving ucab6b7ae449b63ddf135f37cd4e.dl.dropboxusercontent.com (ucab6b7ae449b63ddf135f37cd4e.dl.dropboxusercontent.com)... 162.125.9.6, 2620:100:601f:6::a27d:906\n",
            "Connecting to ucab6b7ae449b63ddf135f37cd4e.dl.dropboxusercontent.com (ucab6b7ae449b63ddf135f37cd4e.dl.dropboxusercontent.com)|162.125.9.6|:443... connected.\n",
            "HTTP request sent, awaiting response... 200 OK\n",
            "Length: 150828752 (144M) [text/plain]\n",
            "Saving to: ‘creditcard.csv’\n",
            "\n",
            "creditcard.csv      100%[===================>] 143.84M  61.2MB/s    in 2.3s    \n",
            "\n",
            "2019-08-30 06:41:25 (61.2 MB/s) - ‘creditcard.csv’ saved [150828752/150828752]\n",
            "\n"
          ],
          "name": "stdout"
        }
      ]
    },
    {
      "cell_type": "code",
      "metadata": {
        "colab_type": "code",
        "id": "A9bvBgYrTorr",
        "colab": {}
      },
      "source": [
        "credit_card_df = pd.read_csv('creditcard.csv')        \n",
        "#credit_card_ds=pd.read_csv(\"creditcard.csv\")\n",
        "# Reading the dataframe"
      ],
      "execution_count": 0,
      "outputs": []
    },
    {
      "cell_type": "code",
      "metadata": {
        "colab_type": "code",
        "id": "YzD-2rXxToru",
        "outputId": "0ce6ae0d-248b-45b3-f26c-fad380c40c5c",
        "colab": {
          "base_uri": "https://localhost:8080/",
          "height": 34
        }
      },
      "source": [
        "credit_card_df.shape # Checking the number of rows and columns"
      ],
      "execution_count": 7,
      "outputs": [
        {
          "output_type": "execute_result",
          "data": {
            "text/plain": [
              "(284807, 31)"
            ]
          },
          "metadata": {
            "tags": []
          },
          "execution_count": 7
        }
      ]
    },
    {
      "cell_type": "code",
      "metadata": {
        "colab_type": "code",
        "id": "yIjfjmbKTory",
        "outputId": "87eb8b30-6125-4619-dfda-a87af8e7acc6",
        "colab": {
          "base_uri": "https://localhost:8080/",
          "height": 215
        }
      },
      "source": [
        "# print the first 5 rows of data\n",
        "credit_card_df.head(5)"
      ],
      "execution_count": 0,
      "outputs": [
        {
          "output_type": "execute_result",
          "data": {
            "text/html": [
              "<div>\n",
              "<style scoped>\n",
              "    .dataframe tbody tr th:only-of-type {\n",
              "        vertical-align: middle;\n",
              "    }\n",
              "\n",
              "    .dataframe tbody tr th {\n",
              "        vertical-align: top;\n",
              "    }\n",
              "\n",
              "    .dataframe thead th {\n",
              "        text-align: right;\n",
              "    }\n",
              "</style>\n",
              "<table border=\"1\" class=\"dataframe\">\n",
              "  <thead>\n",
              "    <tr style=\"text-align: right;\">\n",
              "      <th></th>\n",
              "      <th>Time</th>\n",
              "      <th>V1</th>\n",
              "      <th>V2</th>\n",
              "      <th>V3</th>\n",
              "      <th>V4</th>\n",
              "      <th>V5</th>\n",
              "      <th>V6</th>\n",
              "      <th>V7</th>\n",
              "      <th>V8</th>\n",
              "      <th>V9</th>\n",
              "      <th>V10</th>\n",
              "      <th>V11</th>\n",
              "      <th>V12</th>\n",
              "      <th>V13</th>\n",
              "      <th>V14</th>\n",
              "      <th>V15</th>\n",
              "      <th>V16</th>\n",
              "      <th>V17</th>\n",
              "      <th>V18</th>\n",
              "      <th>V19</th>\n",
              "      <th>V20</th>\n",
              "      <th>V21</th>\n",
              "      <th>V22</th>\n",
              "      <th>V23</th>\n",
              "      <th>V24</th>\n",
              "      <th>V25</th>\n",
              "      <th>V26</th>\n",
              "      <th>V27</th>\n",
              "      <th>V28</th>\n",
              "      <th>Amount</th>\n",
              "      <th>Class</th>\n",
              "    </tr>\n",
              "  </thead>\n",
              "  <tbody>\n",
              "    <tr>\n",
              "      <th>0</th>\n",
              "      <td>0.0</td>\n",
              "      <td>-1.359807</td>\n",
              "      <td>-0.072781</td>\n",
              "      <td>2.536347</td>\n",
              "      <td>1.378155</td>\n",
              "      <td>-0.338321</td>\n",
              "      <td>0.462388</td>\n",
              "      <td>0.239599</td>\n",
              "      <td>0.098698</td>\n",
              "      <td>0.363787</td>\n",
              "      <td>0.090794</td>\n",
              "      <td>-0.551600</td>\n",
              "      <td>-0.617801</td>\n",
              "      <td>-0.991390</td>\n",
              "      <td>-0.311169</td>\n",
              "      <td>1.468177</td>\n",
              "      <td>-0.470401</td>\n",
              "      <td>0.207971</td>\n",
              "      <td>0.025791</td>\n",
              "      <td>0.403993</td>\n",
              "      <td>0.251412</td>\n",
              "      <td>-0.018307</td>\n",
              "      <td>0.277838</td>\n",
              "      <td>-0.110474</td>\n",
              "      <td>0.066928</td>\n",
              "      <td>0.128539</td>\n",
              "      <td>-0.189115</td>\n",
              "      <td>0.133558</td>\n",
              "      <td>-0.021053</td>\n",
              "      <td>149.62</td>\n",
              "      <td>0</td>\n",
              "    </tr>\n",
              "    <tr>\n",
              "      <th>1</th>\n",
              "      <td>0.0</td>\n",
              "      <td>1.191857</td>\n",
              "      <td>0.266151</td>\n",
              "      <td>0.166480</td>\n",
              "      <td>0.448154</td>\n",
              "      <td>0.060018</td>\n",
              "      <td>-0.082361</td>\n",
              "      <td>-0.078803</td>\n",
              "      <td>0.085102</td>\n",
              "      <td>-0.255425</td>\n",
              "      <td>-0.166974</td>\n",
              "      <td>1.612727</td>\n",
              "      <td>1.065235</td>\n",
              "      <td>0.489095</td>\n",
              "      <td>-0.143772</td>\n",
              "      <td>0.635558</td>\n",
              "      <td>0.463917</td>\n",
              "      <td>-0.114805</td>\n",
              "      <td>-0.183361</td>\n",
              "      <td>-0.145783</td>\n",
              "      <td>-0.069083</td>\n",
              "      <td>-0.225775</td>\n",
              "      <td>-0.638672</td>\n",
              "      <td>0.101288</td>\n",
              "      <td>-0.339846</td>\n",
              "      <td>0.167170</td>\n",
              "      <td>0.125895</td>\n",
              "      <td>-0.008983</td>\n",
              "      <td>0.014724</td>\n",
              "      <td>2.69</td>\n",
              "      <td>0</td>\n",
              "    </tr>\n",
              "    <tr>\n",
              "      <th>2</th>\n",
              "      <td>1.0</td>\n",
              "      <td>-1.358354</td>\n",
              "      <td>-1.340163</td>\n",
              "      <td>1.773209</td>\n",
              "      <td>0.379780</td>\n",
              "      <td>-0.503198</td>\n",
              "      <td>1.800499</td>\n",
              "      <td>0.791461</td>\n",
              "      <td>0.247676</td>\n",
              "      <td>-1.514654</td>\n",
              "      <td>0.207643</td>\n",
              "      <td>0.624501</td>\n",
              "      <td>0.066084</td>\n",
              "      <td>0.717293</td>\n",
              "      <td>-0.165946</td>\n",
              "      <td>2.345865</td>\n",
              "      <td>-2.890083</td>\n",
              "      <td>1.109969</td>\n",
              "      <td>-0.121359</td>\n",
              "      <td>-2.261857</td>\n",
              "      <td>0.524980</td>\n",
              "      <td>0.247998</td>\n",
              "      <td>0.771679</td>\n",
              "      <td>0.909412</td>\n",
              "      <td>-0.689281</td>\n",
              "      <td>-0.327642</td>\n",
              "      <td>-0.139097</td>\n",
              "      <td>-0.055353</td>\n",
              "      <td>-0.059752</td>\n",
              "      <td>378.66</td>\n",
              "      <td>0</td>\n",
              "    </tr>\n",
              "    <tr>\n",
              "      <th>3</th>\n",
              "      <td>1.0</td>\n",
              "      <td>-0.966272</td>\n",
              "      <td>-0.185226</td>\n",
              "      <td>1.792993</td>\n",
              "      <td>-0.863291</td>\n",
              "      <td>-0.010309</td>\n",
              "      <td>1.247203</td>\n",
              "      <td>0.237609</td>\n",
              "      <td>0.377436</td>\n",
              "      <td>-1.387024</td>\n",
              "      <td>-0.054952</td>\n",
              "      <td>-0.226487</td>\n",
              "      <td>0.178228</td>\n",
              "      <td>0.507757</td>\n",
              "      <td>-0.287924</td>\n",
              "      <td>-0.631418</td>\n",
              "      <td>-1.059647</td>\n",
              "      <td>-0.684093</td>\n",
              "      <td>1.965775</td>\n",
              "      <td>-1.232622</td>\n",
              "      <td>-0.208038</td>\n",
              "      <td>-0.108300</td>\n",
              "      <td>0.005274</td>\n",
              "      <td>-0.190321</td>\n",
              "      <td>-1.175575</td>\n",
              "      <td>0.647376</td>\n",
              "      <td>-0.221929</td>\n",
              "      <td>0.062723</td>\n",
              "      <td>0.061458</td>\n",
              "      <td>123.50</td>\n",
              "      <td>0</td>\n",
              "    </tr>\n",
              "    <tr>\n",
              "      <th>4</th>\n",
              "      <td>2.0</td>\n",
              "      <td>-1.158233</td>\n",
              "      <td>0.877737</td>\n",
              "      <td>1.548718</td>\n",
              "      <td>0.403034</td>\n",
              "      <td>-0.407193</td>\n",
              "      <td>0.095921</td>\n",
              "      <td>0.592941</td>\n",
              "      <td>-0.270533</td>\n",
              "      <td>0.817739</td>\n",
              "      <td>0.753074</td>\n",
              "      <td>-0.822843</td>\n",
              "      <td>0.538196</td>\n",
              "      <td>1.345852</td>\n",
              "      <td>-1.119670</td>\n",
              "      <td>0.175121</td>\n",
              "      <td>-0.451449</td>\n",
              "      <td>-0.237033</td>\n",
              "      <td>-0.038195</td>\n",
              "      <td>0.803487</td>\n",
              "      <td>0.408542</td>\n",
              "      <td>-0.009431</td>\n",
              "      <td>0.798278</td>\n",
              "      <td>-0.137458</td>\n",
              "      <td>0.141267</td>\n",
              "      <td>-0.206010</td>\n",
              "      <td>0.502292</td>\n",
              "      <td>0.219422</td>\n",
              "      <td>0.215153</td>\n",
              "      <td>69.99</td>\n",
              "      <td>0</td>\n",
              "    </tr>\n",
              "  </tbody>\n",
              "</table>\n",
              "</div>"
            ],
            "text/plain": [
              "   Time        V1        V2        V3  ...       V27       V28  Amount  Class\n",
              "0   0.0 -1.359807 -0.072781  2.536347  ...  0.133558 -0.021053  149.62      0\n",
              "1   0.0  1.191857  0.266151  0.166480  ... -0.008983  0.014724    2.69      0\n",
              "2   1.0 -1.358354 -1.340163  1.773209  ... -0.055353 -0.059752  378.66      0\n",
              "3   1.0 -0.966272 -0.185226  1.792993  ...  0.062723  0.061458  123.50      0\n",
              "4   2.0 -1.158233  0.877737  1.548718  ...  0.219422  0.215153   69.99      0\n",
              "\n",
              "[5 rows x 31 columns]"
            ]
          },
          "metadata": {
            "tags": []
          },
          "execution_count": 8
        }
      ]
    },
    {
      "cell_type": "markdown",
      "metadata": {
        "colab_type": "text",
        "id": "oO4Uc-fUTor5"
      },
      "source": [
        "#### 4.1 Understand datatypes present in dataframe"
      ]
    },
    {
      "cell_type": "code",
      "metadata": {
        "colab_type": "code",
        "id": "1M-dwu6zTor6",
        "outputId": "9b6398cc-7b5d-495c-fbda-5881e502af7c",
        "colab": {
          "base_uri": "https://localhost:8080/",
          "height": 650
        }
      },
      "source": [
        "credit_card_df.info()"
      ],
      "execution_count": 0,
      "outputs": [
        {
          "output_type": "stream",
          "text": [
            "<class 'pandas.core.frame.DataFrame'>\n",
            "RangeIndex: 284807 entries, 0 to 284806\n",
            "Data columns (total 31 columns):\n",
            "Time      284807 non-null float64\n",
            "V1        284807 non-null float64\n",
            "V2        284807 non-null float64\n",
            "V3        284807 non-null float64\n",
            "V4        284807 non-null float64\n",
            "V5        284807 non-null float64\n",
            "V6        284807 non-null float64\n",
            "V7        284807 non-null float64\n",
            "V8        284807 non-null float64\n",
            "V9        284807 non-null float64\n",
            "V10       284807 non-null float64\n",
            "V11       284807 non-null float64\n",
            "V12       284807 non-null float64\n",
            "V13       284807 non-null float64\n",
            "V14       284807 non-null float64\n",
            "V15       284807 non-null float64\n",
            "V16       284807 non-null float64\n",
            "V17       284807 non-null float64\n",
            "V18       284807 non-null float64\n",
            "V19       284807 non-null float64\n",
            "V20       284807 non-null float64\n",
            "V21       284807 non-null float64\n",
            "V22       284807 non-null float64\n",
            "V23       284807 non-null float64\n",
            "V24       284807 non-null float64\n",
            "V25       284807 non-null float64\n",
            "V26       284807 non-null float64\n",
            "V27       284807 non-null float64\n",
            "V28       284807 non-null float64\n",
            "Amount    284807 non-null float64\n",
            "Class     284807 non-null int64\n",
            "dtypes: float64(30), int64(1)\n",
            "memory usage: 67.4 MB\n"
          ],
          "name": "stdout"
        }
      ]
    },
    {
      "cell_type": "markdown",
      "metadata": {
        "colab_type": "text",
        "id": "2oG5tc--Tor-"
      },
      "source": [
        "There are no missing values in this dataframe. So data imputation is **not** required."
      ]
    },
    {
      "cell_type": "markdown",
      "metadata": {
        "colab_type": "text",
        "id": "U1gkTTIhTor_"
      },
      "source": [
        "### 5. Data Visualization"
      ]
    },
    {
      "cell_type": "markdown",
      "metadata": {
        "colab_type": "text",
        "id": "Da0CfGJWTor_"
      },
      "source": [
        "#### 5.1 Distribution of amount in credit card transactions"
      ]
    },
    {
      "cell_type": "code",
      "metadata": {
        "colab_type": "code",
        "id": "clNPlu0OTosA",
        "outputId": "9645a40f-9402-498f-f733-f36ced63ad3c",
        "colab": {
          "base_uri": "https://localhost:8080/",
          "height": 348
        }
      },
      "source": [
        "from matplotlib import style\n",
        "#style.available\n",
        "\n",
        "style.use('ggplot')\n",
        "plt.figure(figsize=(12,4))                                 # Setting the figure size\n",
        "sns.distplot(credit_card_df['Amount'])       \n",
        "\n",
        "# Creating the histogram"
      ],
      "execution_count": 66,
      "outputs": [
        {
          "output_type": "execute_result",
          "data": {
            "text/plain": [
              "<matplotlib.axes._subplots.AxesSubplot at 0x7fe7b0287ba8>"
            ]
          },
          "metadata": {
            "tags": []
          },
          "execution_count": 66
        },
        {
          "output_type": "display_data",
          "data": {
            "image/png": "[encoded data removed]",
            "text/plain": [
              "<Figure size 960x320 with 1 Axes>"
            ]
          },
          "metadata": {
            "tags": []
          }
        }
      ]
    },
    {
      "cell_type": "markdown",
      "metadata": {
        "colab_type": "text",
        "id": "E70LCBDvTosE"
      },
      "source": [
        "The distribution is right skewed with very less transactions towards the higher amounts."
      ]
    },
    {
      "cell_type": "markdown",
      "metadata": {
        "colab_type": "text",
        "id": "UZcft8hWTosF"
      },
      "source": [
        "#### 5.2 Distribution of time that transactions were conducted for both fraudulent as well as non fraudulent."
      ]
    },
    {
      "cell_type": "code",
      "metadata": {
        "colab_type": "code",
        "id": "J-iPUZzhTosG",
        "outputId": "0e1e9015-a35c-4293-96a5-51761a38abb4",
        "colab": {
          "base_uri": "https://localhost:8080/",
          "height": 348
        }
      },
      "source": [
        "from matplotlib import style\n",
        "style.use('ggplot')\n",
        "plt.figure(figsize=(12,4))\n",
        "sns.set_color_codes(\"pastel\")                                                              # Setting the color code\n",
        "sns.distplot(credit_card_df['Time'],kde=True,bins=480)                                     # distribution of time\n",
        "#sns.distplot(credit_card_df.loc[credit_card_df['Class'] == 1, 'Time'],kde=True,bins=480) \n",
        "sns.distplot(credit_card_df.loc[credit_card_df['Class']==1,'Time'],bins=480)\n",
        "# where there are fraudulant transaction\n"
      ],
      "execution_count": 56,
      "outputs": [
        {
          "output_type": "execute_result",
          "data": {
            "text/plain": [
              "<matplotlib.axes._subplots.AxesSubplot at 0x7fe7b14f0e48>"
            ]
          },
          "metadata": {
            "tags": []
          },
          "execution_count": 56
        },
        {
          "output_type": "display_data",
          "data": {
            "image/png": "[encoded data removed]",
            "text/plain": [
              "<Figure size 960x320 with 1 Axes>"
            ]
          },
          "metadata": {
            "tags": []
          }
        }
      ]
    },
    {
      "cell_type": "markdown",
      "metadata": {
        "colab_type": "text",
        "id": "fGKtZEApTosL"
      },
      "source": [
        "The time for fraudulent transactions is almost uniformly distributed with a certain level of **repetition or seasonality** after some interval of time."
      ]
    },
    {
      "cell_type": "code",
      "metadata": {
        "id": "DJMvtyVRV6dY",
        "colab_type": "code",
        "colab": {
          "base_uri": "https://localhost:8080/",
          "height": 34
        },
        "outputId": "95fcdaad-00a7-45e9-eee9-9985bdb62cd2"
      },
      "source": [
        "credit_card_df[credit_card_df['Amount']>2000]['Amount'].count()"
      ],
      "execution_count": 46,
      "outputs": [
        {
          "output_type": "execute_result",
          "data": {
            "text/plain": [
              "676"
            ]
          },
          "metadata": {
            "tags": []
          },
          "execution_count": 46
        }
      ]
    },
    {
      "cell_type": "code",
      "metadata": {
        "colab_type": "code",
        "id": "UoWeL8vTTosN",
        "outputId": "8b2c4113-b3da-4f45-957e-472691541a36",
        "colab": {
          "base_uri": "https://localhost:8080/",
          "height": 440
        }
      },
      "source": [
        "credit_card_df.loc[credit_card_df['Class'] == 1, 'Time']\n",
        "# x-axis is Time, y-axis is amount\n",
        "#plt.plot(credit_card_df.loc[credit_card_df['Class'] == 1, 'Time'],credit_card_df.loc[credit_card_df['Class'] == 1, 'Amount']) \n",
        "plt.plot(credit_card_df.loc[credit_card_df['Class']==1,'Time'],credit_card_df.loc[credit_card_df['Class']==1,'Amount'])\n",
        "plt.show()"
      ],
      "execution_count": 74,
      "outputs": [
        {
          "output_type": "display_data",
          "data": {
            "image/png": "[encoded data removed]",
            "text/plain": [
              "<Figure size 640x480 with 1 Axes>"
            ]
          },
          "metadata": {
            "tags": []
          }
        }
      ]
    },
    {
      "cell_type": "markdown",
      "metadata": {
        "colab_type": "text",
        "id": "E0txLEbyTosU"
      },
      "source": [
        "#### 5.3 Distribution of V4 for fraudulent and non fraudulent transactions"
      ]
    },
    {
      "cell_type": "code",
      "metadata": {
        "colab_type": "code",
        "id": "xizhyxlATosW",
        "outputId": "29e79d0f-06cc-49a7-e239-2e28996f58a4",
        "colab": {
          "base_uri": "https://localhost:8080/",
          "height": 348
        }
      },
      "source": [
        "from matplotlib import style\n",
        "style.use('ggplot')\n",
        "plt.figure(figsize=(12,4))\n",
        "#sns.set_color_codes(\"pastel\")\n",
        "\n",
        "\n",
        "# Distribution of fraudulent and normal transaction for column V4\n",
        "#sns.kdeplot(credit_card_df.loc[credit_card_df['Class'] == 1, 'V4'],label='Fraudulent')\n",
        "#sns.kdeplot(credit_card_df.loc[credit_card_df['Class'] == 0, 'V4'],label='Normal')\n",
        "\n",
        "sns.kdeplot(credit_card_df.loc[credit_card_df['Class']==0,'V4'],label='nonfraud')\n",
        "sns.distplot(credit_card_df.loc[credit_card_df['Class']==1,'V4'],bins=480)"
      ],
      "execution_count": 101,
      "outputs": [
        {
          "output_type": "execute_result",
          "data": {
            "text/plain": [
              "<matplotlib.axes._subplots.AxesSubplot at 0x7fe7ad614278>"
            ]
          },
          "metadata": {
            "tags": []
          },
          "execution_count": 101
        },
        {
          "output_type": "display_data",
          "data": {
            "image/png": "[encoded data removed]",
            "text/plain": [
              "<Figure size 960x320 with 1 Axes>"
            ]
          },
          "metadata": {
            "tags": []
          }
        }
      ]
    },
    {
      "cell_type": "markdown",
      "metadata": {
        "colab_type": "text",
        "id": "IK341HjOTosc"
      },
      "source": [
        "VIt is quite evident that fraudulent and normal transactions are almost separated through this graph with the help of V4 attribute."
      ]
    },
    {
      "cell_type": "markdown",
      "metadata": {
        "colab_type": "text",
        "id": "k1tAc7DuTose"
      },
      "source": [
        "#### 5.4 Scatter plot between time of transaction and amount of transaction"
      ]
    },
    {
      "cell_type": "code",
      "metadata": {
        "colab_type": "code",
        "id": "qnxUd6CsTosg",
        "outputId": "d1912bae-59ea-46e9-a507-60d6d90a66d1",
        "colab": {
          "base_uri": "https://localhost:8080/",
          "height": 442
        }
      },
      "source": [
        "plt.figure(figsize=(15,10))\n",
        "sns.lmplot('Time',                # Horizontal axis\n",
        "           'Amount',              # Vertical axis\n",
        "           data=credit_card_df,   # Data source\n",
        "           fit_reg=False,         # Don't fix a regression line\n",
        "           hue=\"Class\",           # Set color\n",
        "        ) \n"
      ],
      "execution_count": 89,
      "outputs": [
        {
          "output_type": "execute_result",
          "data": {
            "text/plain": [
              "<seaborn.axisgrid.FacetGrid at 0x7fe7aed30048>"
            ]
          },
          "metadata": {
            "tags": []
          },
          "execution_count": 89
        },
        {
          "output_type": "display_data",
          "data": {
            "text/plain": [
              "<Figure size 1200x800 with 0 Axes>"
            ]
          },
          "metadata": {
            "tags": []
          }
        },
        {
          "output_type": "display_data",
          "data": {
            "image/png": "[encoded data removed]",
            "text/plain": [
              "<Figure size 456.5x400 with 1 Axes>"
            ]
          },
          "metadata": {
            "tags": []
          }
        }
      ]
    },
    {
      "cell_type": "markdown",
      "metadata": {
        "colab_type": "text",
        "id": "3pKCibsbTosk"
      },
      "source": [
        "It is evident that Fraudulent transactions are mostly below an amount of 1000 and never more than that."
      ]
    },
    {
      "cell_type": "markdown",
      "metadata": {
        "colab_type": "text",
        "id": "5ByZYwZyTosl"
      },
      "source": [
        "#### 5.5 Correlation Heatmap"
      ]
    },
    {
      "cell_type": "code",
      "metadata": {
        "colab_type": "code",
        "id": "RvsttJi1Tosm",
        "outputId": "bc44eae0-e794-4da5-b37c-b9bf6658e315",
        "colab": {
          "base_uri": "https://localhost:8080/",
          "height": 712
        }
      },
      "source": [
        "plt.figure(figsize=(20,10))\n",
        "c = credit_card_df[['Amount','Time','V1','V2','V3','V4','V10','V25']].corr()\n",
        "sns.heatmap(c,annot=True,cmap='BrBG')\n",
        "#sns.heatmap(c,cmap=\"BrBG\",annot=True)"
      ],
      "execution_count": 94,
      "outputs": [
        {
          "output_type": "execute_result",
          "data": {
            "text/plain": [
              "<matplotlib.axes._subplots.AxesSubplot at 0x7fe7ad687b38>"
            ]
          },
          "metadata": {
            "tags": []
          },
          "execution_count": 94
        },
        {
          "output_type": "display_data",
          "data": {
            "image/png": "[encoded data removed]",
            "text/plain": [
              "<Figure size 1600x800 with 2 Axes>"
            ]
          },
          "metadata": {
            "tags": []
          }
        }
      ]
    },
    {
      "cell_type": "markdown",
      "metadata": {
        "colab_type": "text",
        "id": "P8tQ0bKoTosp"
      },
      "source": [
        "Amount is negatively correlated with V2\n",
        "Time is negatively correlated with V3"
      ]
    },
    {
      "cell_type": "code",
      "metadata": {
        "id": "HGyB7A0KnFH4",
        "colab_type": "code",
        "colab": {
          "base_uri": "https://localhost:8080/",
          "height": 34
        },
        "outputId": "3969355b-ee1d-4b82-a8b3-1056a697d700"
      },
      "source": [
        "credit_card_df[credit_card_df['Class']>0]['Class'].count()"
      ],
      "execution_count": 99,
      "outputs": [
        {
          "output_type": "execute_result",
          "data": {
            "text/plain": [
              "492"
            ]
          },
          "metadata": {
            "tags": []
          },
          "execution_count": 99
        }
      ]
    },
    {
      "cell_type": "markdown",
      "metadata": {
        "colab_type": "text",
        "id": "tWWJrKBJTosq"
      },
      "source": [
        "### 6. Handle imbalanced data using SMOTE"
      ]
    },
    {
      "cell_type": "markdown",
      "metadata": {
        "colab_type": "text",
        "id": "elz5J1grTosr"
      },
      "source": [
        "#### 6.1 Prepare the data"
      ]
    },
    {
      "cell_type": "code",
      "metadata": {
        "colab_type": "code",
        "id": "1LZsCeS0Toss",
        "colab": {
          "base_uri": "https://localhost:8080/",
          "height": 1000
        },
        "outputId": "851b5dec-f029-4868-e5f2-c63a59b3ba5b"
      },
      "source": [
        "X = credit_card_df.drop(['Class'],axis=1)\n",
        "\n",
        "y = credit_card_df.Class\n",
        "\n",
        "z=credit_card_df['Class']\n",
        "\n",
        "z"
      ],
      "execution_count": 112,
      "outputs": [
        {
          "output_type": "execute_result",
          "data": {
            "text/plain": [
              "0         0\n",
              "1         0\n",
              "2         0\n",
              "3         0\n",
              "4         0\n",
              "5         0\n",
              "6         0\n",
              "7         0\n",
              "8         0\n",
              "9         0\n",
              "10        0\n",
              "11        0\n",
              "12        0\n",
              "13        0\n",
              "14        0\n",
              "15        0\n",
              "16        0\n",
              "17        0\n",
              "18        0\n",
              "19        0\n",
              "20        0\n",
              "21        0\n",
              "22        0\n",
              "23        0\n",
              "24        0\n",
              "25        0\n",
              "26        0\n",
              "27        0\n",
              "28        0\n",
              "29        0\n",
              "         ..\n",
              "284777    0\n",
              "284778    0\n",
              "284779    0\n",
              "284780    0\n",
              "284781    0\n",
              "284782    0\n",
              "284783    0\n",
              "284784    0\n",
              "284785    0\n",
              "284786    0\n",
              "284787    0\n",
              "284788    0\n",
              "284789    0\n",
              "284790    0\n",
              "284791    0\n",
              "284792    0\n",
              "284793    0\n",
              "284794    0\n",
              "284795    0\n",
              "284796    0\n",
              "284797    0\n",
              "284798    0\n",
              "284799    0\n",
              "284800    0\n",
              "284801    0\n",
              "284802    0\n",
              "284803    0\n",
              "284804    0\n",
              "284805    0\n",
              "284806    0\n",
              "Name: Class, Length: 284807, dtype: int64"
            ]
          },
          "metadata": {
            "tags": []
          },
          "execution_count": 112
        }
      ]
    },
    {
      "cell_type": "code",
      "metadata": {
        "colab_type": "code",
        "id": "Ec_aGpj9Tosu",
        "outputId": "5c2546a2-cebf-4325-f726-83203eec8ceb",
        "colab": {
          "base_uri": "https://localhost:8080/",
          "height": 68
        }
      },
      "source": [
        "y.value_counts()                              # Checking the number of fraudulant and normal transactions"
      ],
      "execution_count": 116,
      "outputs": [
        {
          "output_type": "execute_result",
          "data": {
            "text/plain": [
              "0    284315\n",
              "1       492\n",
              "Name: Class, dtype: int64"
            ]
          },
          "metadata": {
            "tags": []
          },
          "execution_count": 116
        }
      ]
    },
    {
      "cell_type": "markdown",
      "metadata": {
        "id": "qQCRJHXqWvqT",
        "colab_type": "text"
      },
      "source": [
        "The classes are highly imbalanced. We need to use SMOTE technique to balance the labels."
      ]
    },
    {
      "cell_type": "code",
      "metadata": {
        "scrolled": true,
        "id": "rdT15C4X7XYg",
        "colab_type": "code",
        "outputId": "766056f3-4150-4341-80ab-acf49bbf744e",
        "colab": {
          "base_uri": "https://localhost:8080/",
          "height": 119
        }
      },
      "source": [
        "!pip install imblearn                         # Installing the smote package"
      ],
      "execution_count": 117,
      "outputs": [
        {
          "output_type": "stream",
          "text": [
            "Requirement already satisfied: imblearn in /usr/local/lib/python3.6/dist-packages (0.0)\n",
            "Requirement already satisfied: imbalanced-learn in /usr/local/lib/python3.6/dist-packages (from imblearn) (0.4.3)\n",
            "Requirement already satisfied: scikit-learn>=0.20 in /usr/local/lib/python3.6/dist-packages (from imbalanced-learn->imblearn) (0.21.3)\n",
            "Requirement already satisfied: scipy>=0.13.3 in /usr/local/lib/python3.6/dist-packages (from imbalanced-learn->imblearn) (1.3.1)\n",
            "Requirement already satisfied: numpy>=1.8.2 in /usr/local/lib/python3.6/dist-packages (from imbalanced-learn->imblearn) (1.16.4)\n",
            "Requirement already satisfied: joblib>=0.11 in /usr/local/lib/python3.6/dist-packages (from scikit-learn>=0.20->imbalanced-learn->imblearn) (0.13.2)\n"
          ],
          "name": "stdout"
        }
      ]
    },
    {
      "cell_type": "code",
      "metadata": {
        "colab_type": "code",
        "id": "R86v4A2aTosx",
        "colab": {}
      },
      "source": [
        "from imblearn.over_sampling import SMOTE\n",
        "\n",
        "smote = SMOTE(ratio='minority')                  # To resample the minority class\n",
        "X_sm, y_sm = smote.fit_sample(X, y)              # Fit SMOTE on the data"
      ],
      "execution_count": 0,
      "outputs": []
    },
    {
      "cell_type": "code",
      "metadata": {
        "colab_type": "code",
        "id": "JWKG1T2dTos0",
        "colab": {}
      },
      "source": [
        "# Train test Split\n",
        "\n",
        "X_train, X_test, y_train, y_test = train_test_split(X_sm,y_sm,test_size=0.33, random_state=42)"
      ],
      "execution_count": 0,
      "outputs": []
    },
    {
      "cell_type": "code",
      "metadata": {
        "colab_type": "code",
        "id": "4-YQ-8hXTos1",
        "outputId": "eca39a89-ced4-4c55-cf0c-ff4a0804229d",
        "colab": {
          "base_uri": "https://localhost:8080/",
          "height": 34
        }
      },
      "source": [
        "X_test.shape                                    # Checking the number of rows and columns"
      ],
      "execution_count": 122,
      "outputs": [
        {
          "output_type": "execute_result",
          "data": {
            "text/plain": [
              "(187648, 30)"
            ]
          },
          "metadata": {
            "tags": []
          },
          "execution_count": 122
        }
      ]
    },
    {
      "cell_type": "markdown",
      "metadata": {
        "colab_type": "text",
        "id": "oFpGfnnsTos9"
      },
      "source": [
        "#### 6.2 Train a logistic regression model"
      ]
    },
    {
      "cell_type": "code",
      "metadata": {
        "colab_type": "code",
        "id": "mJTjSVQKTos_",
        "outputId": "09cdab0c-25c2-4976-90f4-c26b1925ac83",
        "colab": {
          "base_uri": "https://localhost:8080/",
          "height": 156
        }
      },
      "source": [
        "# train a logistic regression model on the training set\n",
        "\n",
        "logreg = LogisticRegression(C=0.8)\n",
        "logreg.fit(X_train, y_train)"
      ],
      "execution_count": 123,
      "outputs": [
        {
          "output_type": "stream",
          "text": [
            "/usr/local/lib/python3.6/dist-packages/sklearn/linear_model/logistic.py:432: FutureWarning: Default solver will be changed to 'lbfgs' in 0.22. Specify a solver to silence this warning.\n",
            "  FutureWarning)\n"
          ],
          "name": "stderr"
        },
        {
          "output_type": "execute_result",
          "data": {
            "text/plain": [
              "LogisticRegression(C=0.8, class_weight=None, dual=False, fit_intercept=True,\n",
              "                   intercept_scaling=1, l1_ratio=None, max_iter=100,\n",
              "                   multi_class='warn', n_jobs=None, penalty='l2',\n",
              "                   random_state=None, solver='warn', tol=0.0001, verbose=0,\n",
              "                   warm_start=False)"
            ]
          },
          "metadata": {
            "tags": []
          },
          "execution_count": 123
        }
      ]
    },
    {
      "cell_type": "code",
      "metadata": {
        "colab_type": "code",
        "id": "X36ybjf7TotB",
        "outputId": "06244e61-cf06-42ea-aa25-db5982f19f07",
        "colab": {
          "base_uri": "https://localhost:8080/",
          "height": 272
        }
      },
      "source": [
        "# make class predictions for the testing set\n",
        "print(X_test)\n",
        "y_pred_class = logreg.predict(X_test)\n",
        "\n",
        "print(y_pred_class)\n",
        "# calculate accuracy with threshold of 0.5\n",
        "print(metrics.accuracy_score(y_test, y_pred_class))"
      ],
      "execution_count": 127,
      "outputs": [
        {
          "output_type": "stream",
          "text": [
            "[[ 7.70487894e+04 -3.56408219e-01  1.77204666e+00 ...  2.53302175e-01\n",
            "   1.55805099e-01  1.00000000e+00]\n",
            " [ 8.67425385e+04 -5.59114874e-01  1.28033747e-02 ...  1.83381059e-01\n",
            "   2.14264893e-01  3.80348272e+02]\n",
            " [ 4.26700000e+03 -8.51993654e-01  9.35552982e-01 ... -3.11257097e-04\n",
            "  -1.25090224e-01  3.05300000e+01]\n",
            " ...\n",
            " [ 9.43063923e+04 -2.32003722e+01  1.44134919e+01 ... -5.90533234e+00\n",
            "  -1.10278554e+00  1.21919982e+01]\n",
            " [ 1.25615470e+05  1.76401045e+00  1.21803108e+00 ...  5.06788779e-02\n",
            "   6.47897481e-02  2.97711315e+00]\n",
            " [ 1.09872254e+05  1.61152417e+00  1.23745715e+00 ...  1.69298501e-01\n",
            "   6.71510779e-02  7.28169336e-01]]\n",
            "[1 0 0 ... 1 1 1]\n",
            "0.9670713250341064\n"
          ],
          "name": "stdout"
        }
      ]
    },
    {
      "cell_type": "code",
      "metadata": {
        "colab_type": "code",
        "id": "jQimJ_JATotF",
        "outputId": "6278aeb7-ea8f-48f2-d47c-d18684ab15a0",
        "colab": {
          "base_uri": "https://localhost:8080/",
          "height": 70
        }
      },
      "source": [
        "# examine the class distribution of the testing set\n",
        "pd.Series(y_test).value_counts()"
      ],
      "execution_count": 0,
      "outputs": [
        {
          "output_type": "execute_result",
          "data": {
            "text/plain": [
              "1    93873\n",
              "0    93775\n",
              "dtype: int64"
            ]
          },
          "metadata": {
            "tags": []
          },
          "execution_count": 24
        }
      ]
    },
    {
      "cell_type": "code",
      "metadata": {
        "colab_type": "code",
        "id": "Jk9uRiMDTotL",
        "outputId": "5bd9a5bb-2046-402e-a732-344beca123f9",
        "colab": {
          "base_uri": "https://localhost:8080/",
          "height": 52
        }
      },
      "source": [
        "# calculate null accuracy \n",
        "pd.Series(y_test).value_counts().head(1) / len(y_test)"
      ],
      "execution_count": 0,
      "outputs": [
        {
          "output_type": "execute_result",
          "data": {
            "text/plain": [
              "1    0.500261\n",
              "dtype: float64"
            ]
          },
          "metadata": {
            "tags": []
          },
          "execution_count": 25
        }
      ]
    },
    {
      "cell_type": "markdown",
      "metadata": {
        "colab_type": "text",
        "id": "PwUw9a6xTotO"
      },
      "source": [
        "Accuracy is not an appropriate metric in this scenario. We employ confusion matrix and ROC curve to further understand performance of our model on test data."
      ]
    },
    {
      "cell_type": "code",
      "metadata": {
        "colab_type": "code",
        "id": "ejsf6dB4TotO",
        "outputId": "74811f9f-f16d-4e3e-d54a-2eee42791fcd",
        "colab": {
          "base_uri": "https://localhost:8080/",
          "height": 52
        }
      },
      "source": [
        "conf=metrics.confusion_matrix(y_test, y_pred_class)\n",
        "print(metrics.confusion_matrix(y_test, y_pred_class))"
      ],
      "execution_count": 0,
      "outputs": [
        {
          "output_type": "stream",
          "text": [
            "[[92410  1365]\n",
            " [ 5295 88578]]\n"
          ],
          "name": "stdout"
        }
      ]
    },
    {
      "cell_type": "markdown",
      "metadata": {
        "colab_type": "text",
        "id": "rPm4s5HuTotS"
      },
      "source": [
        "Here the false negatives are very high which means around 1365 are wrongly classifed as non-defaulters when in reality they are defaulters."
      ]
    },
    {
      "cell_type": "code",
      "metadata": {
        "colab_type": "code",
        "id": "ykmVOqs2TotT",
        "outputId": "9f88f562-b0dd-4ab8-81f1-be5e501d048a",
        "colab": {
          "base_uri": "https://localhost:8080/",
          "height": 286
        }
      },
      "source": [
        "# Visualizing the confusion matrix\n",
        "\n",
        "cmap = sns.cubehelix_palette(as_cmap=True)\n",
        "sns.heatmap(conf,cmap = cmap,xticklabels=['No','Yes'],yticklabels=['No','Yes'],annot=True, fmt=\"d\")"
      ],
      "execution_count": 0,
      "outputs": [
        {
          "output_type": "execute_result",
          "data": {
            "text/plain": [
              "<matplotlib.axes._subplots.AxesSubplot at 0x7f375a3bab70>"
            ]
          },
          "metadata": {
            "tags": []
          },
          "execution_count": 27
        },
        {
          "output_type": "display_data",
          "data": {
            "image/png": "[encoded data removed]",
            "text/plain": [
              "<Figure size 432x288 with 2 Axes>"
            ]
          },
          "metadata": {
            "tags": []
          }
        }
      ]
    },
    {
      "cell_type": "code",
      "metadata": {
        "colab_type": "code",
        "id": "y-4Hy5RYTotW",
        "colab": {}
      },
      "source": [
        "predict_probabilities = logreg.predict_proba(X_test)          # Predict the probability values for X_test\n",
        "fpr, tpr, thresholds = metrics.roc_curve(y_test, predict_probabilities[:,1])"
      ],
      "execution_count": 0,
      "outputs": []
    },
    {
      "cell_type": "code",
      "metadata": {
        "colab_type": "code",
        "id": "ueYAwMnXTotY",
        "outputId": "036dfae6-0d54-4b47-e806-fbd41f7225a7",
        "colab": {
          "base_uri": "https://localhost:8080/",
          "height": 299
        }
      },
      "source": [
        "plt.plot(fpr, tpr)\n",
        "plt.xlim([0.0, 1.0])\n",
        "plt.ylim([0.0, 1.0])\n",
        "plt.title('ROC curve for heart rate data (imbalanced)')\n",
        "plt.xlabel('False Positive Rate (1 - Specificity)')\n",
        "plt.ylabel('True Positive Rate (Sensitivity)')\n",
        "plt.grid(True)"
      ],
      "execution_count": 0,
      "outputs": [
        {
          "output_type": "display_data",
          "data": {
            "image/png": "[encoded data removed]",
            "text/plain": [
              "<Figure size 432x288 with 1 Axes>"
            ]
          },
          "metadata": {
            "tags": []
          }
        }
      ]
    },
    {
      "cell_type": "code",
      "metadata": {
        "colab_type": "code",
        "id": "NMBFyUE-Totb",
        "outputId": "16fcfa66-fdf3-4545-8d06-628326e79244",
        "colab": {
          "base_uri": "https://localhost:8080/",
          "height": 34
        }
      },
      "source": [
        "roc_auc = metrics.auc(fpr, tpr)\n",
        "print(\"Area under the ROC curve : %f\" % roc_auc)"
      ],
      "execution_count": 0,
      "outputs": [
        {
          "output_type": "stream",
          "text": [
            "Area under the ROC curve : 0.989440\n"
          ],
          "name": "stdout"
        }
      ]
    },
    {
      "cell_type": "code",
      "metadata": {
        "id": "WsOtcFfR7XZM",
        "colab_type": "code",
        "colab": {}
      },
      "source": [
        ""
      ],
      "execution_count": 0,
      "outputs": []
    }
  ]
}